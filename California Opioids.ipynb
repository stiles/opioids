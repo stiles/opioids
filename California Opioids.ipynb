{
 "cells": [
  {
   "cell_type": "markdown",
   "metadata": {},
   "source": [
    "# Opioid distribution in California\n",
    "\n",
    "This notebook documents the Los Angeles Times' analysis of U.S. Drug Enforcement Agency data released by The Washington Post in July 2019 as part of an [investigation of opioids distribution](https://www.washingtonpost.com/graphics/2019/investigations/dea-pain-pill-database/?utm_term=.9717a00308fe) nationwide. The data, pulled from the agency's Automation of Reports and Consolidated Order System, known as ARCOS, show prescription pain pill transactions from manufacurers to distributors from 2006 to 2012. During that time, more than 8 billion tablets of hydrocodone and oxycodone were distributed to California."
   ]
  },
  {
   "cell_type": "markdown",
   "metadata": {},
   "source": [
    "### To begin, load python libraries and set config params"
   ]
  },
  {
   "cell_type": "code",
   "execution_count": null,
   "metadata": {},
   "outputs": [],
   "source": [
    "import pandas as pd\n",
    "import psycopg2 as pg\n",
    "import matplotlib as mpl\n",
    "from matplotlib import pyplot as plt\n",
    "from matplotlib import rc\n",
    "%matplotlib inline\n",
    "import seaborn as sns\n",
    "import sqlalchemy\n",
    "import pandas.io.sql as psql\n",
    "import numpy as np\n",
    "import geopandas \n",
    "\n",
    "plt.rcParams['figure.figsize'] = [8, 4.5]\n",
    "rc('font',**{'family':'sans-serif','sans-serif':['DejaVu Sans'],'size':10})\n",
    "%matplotlib inline\n",
    "%config InlineBackend.figure_format = 'retina'\n",
    "\n",
    "sorted(mpl.style.available)"
   ]
  },
  {
   "cell_type": "markdown",
   "metadata": {},
   "source": [
    "### Connect to the local posgres server with California data"
   ]
  },
  {
   "cell_type": "code",
   "execution_count": null,
   "metadata": {},
   "outputs": [],
   "source": [
    "database = pg.connect(\"dbname=opioids user=postgres\")"
   ]
  },
  {
   "cell_type": "markdown",
   "metadata": {},
   "source": [
    "### Query database to create dataframe for analysis with python and pandas"
   ]
  },
  {
   "cell_type": "code",
   "execution_count": null,
   "metadata": {},
   "outputs": [],
   "source": [
    "pillssql = psql.read_sql(\"SELECT transaction_date, buyer_dea_no, buyer_bus_act, buyer_name, buyer_city, buyer_zip, buyer_county, drug_name, quantity, (case when length(dosage_unit) > 1 then dosage_unit end) as dosage_unit, mme_conversion_factor FROM opioidsca\", database)"
   ]
  },
  {
   "cell_type": "markdown",
   "metadata": {},
   "source": [
    "### To speed things up, try reading the from a tsv, not postgres"
   ]
  },
  {
   "cell_type": "code",
   "execution_count": null,
   "metadata": {},
   "outputs": [],
   "source": [
    "pills = pd.read_csv(\"Desktop/data/arcos-ca-statewide-itemized.tsv\", sep='\\t', header=0, low_memory=False)"
   ]
  },
  {
   "cell_type": "code",
   "execution_count": null,
   "metadata": {},
   "outputs": [],
   "source": [
    "pop = pd.read_csv(\"Desktop/data/ca-counties-pop-1970-2050.csv\", sep=',', header=0, low_memory=False)"
   ]
  },
  {
   "cell_type": "markdown",
   "metadata": {},
   "source": [
    "### Read the tsv with proper data types: first on import — and then after"
   ]
  },
  {
   "cell_type": "code",
   "execution_count": null,
   "metadata": {},
   "outputs": [],
   "source": [
    "pills = pd.read_csv(\"Desktop/data/arcos-ca-statewide-itemized.tsv\", sep='\\t', header=0, low_memory=False, dtype={'BUYER_ZIP': 'str'})"
   ]
  },
  {
   "cell_type": "code",
   "execution_count": null,
   "metadata": {},
   "outputs": [],
   "source": [
    "pills['REPORTER_ZIP'] = pills.REPORTER_ZIP.astype(object)"
   ]
  },
  {
   "cell_type": "code",
   "execution_count": null,
   "metadata": {},
   "outputs": [],
   "source": [
    "pills['DRUG_CODE'] = pills.DRUG_CODE.astype(object)"
   ]
  },
  {
   "cell_type": "markdown",
   "metadata": {},
   "source": [
    "### Transform the original int64 date field to a usable date"
   ]
  },
  {
   "cell_type": "code",
   "execution_count": null,
   "metadata": {},
   "outputs": [],
   "source": [
    "pills['TRANSACTION_DATE'] = pd.to_datetime(pills['TRANSACTION_DATE'].astype('str'), format = '%m%d%Y')"
   ]
  },
  {
   "cell_type": "markdown",
   "metadata": {},
   "source": [
    "### Parse the date further to extact year and month in new fields"
   ]
  },
  {
   "cell_type": "code",
   "execution_count": null,
   "metadata": {},
   "outputs": [],
   "source": [
    "pills['TRANSACTION_DATE'] = pd.to_datetime(pills['TRANSACTION_DATE'])\n",
    "pills['YEAR'], pills['MONTH'] = pills['TRANSACTION_DATE'].dt.year, pills['TRANSACTION_DATE'].dt.month"
   ]
  },
  {
   "cell_type": "markdown",
   "metadata": {},
   "source": [
    "### Change month, year fields to objects for grouping"
   ]
  },
  {
   "cell_type": "code",
   "execution_count": null,
   "metadata": {},
   "outputs": [],
   "source": [
    "pills['YEAR'] = pills.YEAR.astype(object)"
   ]
  },
  {
   "cell_type": "code",
   "execution_count": null,
   "metadata": {},
   "outputs": [],
   "source": [
    "pills['MONTH'] = pills.MONTH.astype(object)"
   ]
  },
  {
   "cell_type": "markdown",
   "metadata": {},
   "source": [
    "### A look at all the data types for each field in our data population frame"
   ]
  },
  {
   "cell_type": "code",
   "execution_count": null,
   "metadata": {},
   "outputs": [],
   "source": [
    "pop['year'] = pop.year.astype(object)\n",
    "pop['fips'] = pop.fips.astype(object)\n",
    "pop.dtypes"
   ]
  },
  {
   "cell_type": "markdown",
   "metadata": {},
   "source": [
    "### A look at all the data types for each field in our pills data frame"
   ]
  },
  {
   "cell_type": "code",
   "execution_count": null,
   "metadata": {},
   "outputs": [],
   "source": [
    "pills.dtypes"
   ]
  },
  {
   "cell_type": "code",
   "execution_count": null,
   "metadata": {},
   "outputs": [],
   "source": [
    "years = [2006,2007,2008,2009,2010,2011,2012]\n",
    "popyears = pop[pop.year.isin(years)]"
   ]
  },
  {
   "cell_type": "code",
   "execution_count": null,
   "metadata": {},
   "outputs": [],
   "source": [
    "# popyears.groupby(['year','county'])[['pop_total']].sum()\n",
    "pillyears = popyears.groupby(['year','county'], as_index=False).agg({\"pop_total\": \"sum\"})"
   ]
  },
  {
   "cell_type": "markdown",
   "metadata": {},
   "source": [
    "### How many people (should update to just adults) lived in each California county in each of the years from 2006 to 2012?"
   ]
  },
  {
   "cell_type": "code",
   "execution_count": null,
   "metadata": {
    "scrolled": true
   },
   "outputs": [],
   "source": [
    "pillyears"
   ]
  },
  {
   "cell_type": "code",
   "execution_count": null,
   "metadata": {},
   "outputs": [],
   "source": [
    "pills['county'] = pills.BUYER_COUNTY.astype(object)"
   ]
  },
  {
   "cell_type": "code",
   "execution_count": null,
   "metadata": {},
   "outputs": [],
   "source": [
    "pills"
   ]
  },
  {
   "cell_type": "markdown",
   "metadata": {},
   "source": [
    "### Merge our tables for pill by county and population by county"
   ]
  },
  {
   "cell_type": "code",
   "execution_count": null,
   "metadata": {},
   "outputs": [],
   "source": [
    "pillyears['year'] = pillyears.year.astype(object)\n",
    "pillscounties['year'] = pillscounties.YEAR.astype(object)"
   ]
  },
  {
   "cell_type": "code",
   "execution_count": null,
   "metadata": {},
   "outputs": [],
   "source": [
    "merged = pd.merge(pillyears,pillscounties, on=['county','year'])"
   ]
  },
  {
   "cell_type": "code",
   "execution_count": null,
   "metadata": {},
   "outputs": [],
   "source": [
    "merged"
   ]
  },
  {
   "cell_type": "markdown",
   "metadata": {},
   "source": [
    "### Create a rate field in our merged table"
   ]
  },
  {
   "cell_type": "code",
   "execution_count": null,
   "metadata": {},
   "outputs": [],
   "source": [
    "merged['rate'] = merged['DOSAGE_UNIT']/merged['pop_total']"
   ]
  },
  {
   "cell_type": "markdown",
   "metadata": {},
   "source": [
    "### New merged table with county, drug, business type, pills, population and rate — sorted desc by rate\n",
    "### (These places are the outliers)"
   ]
  },
  {
   "cell_type": "code",
   "execution_count": null,
   "metadata": {},
   "outputs": [],
   "source": [
    "merged.to_csv('Desktop/data.csv', sep='\\t', encoding='utf-8')\n",
    "print(merged)"
   ]
  },
  {
   "cell_type": "code",
   "execution_count": null,
   "metadata": {},
   "outputs": [],
   "source": [
    "merged.sort_values(by='rate', ascending=False)"
   ]
  },
  {
   "cell_type": "markdown",
   "metadata": {},
   "source": [
    "### First three rows in our dataframe"
   ]
  },
  {
   "cell_type": "code",
   "execution_count": null,
   "metadata": {},
   "outputs": [],
   "source": [
    "pills.head(3)"
   ]
  },
  {
   "cell_type": "markdown",
   "metadata": {},
   "source": [
    "### Buyers in LA County"
   ]
  },
  {
   "cell_type": "code",
   "execution_count": null,
   "metadata": {},
   "outputs": [],
   "source": [
    "lapills = pills[pills.BUYER_COUNTY == 'LOS ANGELES']"
   ]
  },
  {
   "cell_type": "markdown",
   "metadata": {},
   "source": [
    "### First three rows of LA pills dataframe"
   ]
  },
  {
   "cell_type": "code",
   "execution_count": null,
   "metadata": {
    "scrolled": true
   },
   "outputs": [],
   "source": [
    "lapills.head(3)"
   ]
  },
  {
   "cell_type": "markdown",
   "metadata": {},
   "source": [
    "### Retail pharmarcies in the city of Los Angeles"
   ]
  },
  {
   "cell_type": "code",
   "execution_count": null,
   "metadata": {
    "scrolled": true
   },
   "outputs": [],
   "source": [
    "pills[(pills.BUYER_CITY == 'LOS ANGELES') & (pills.BUYER_BUS_ACT == 'RETAIL PHARMACY')]"
   ]
  },
  {
   "cell_type": "markdown",
   "metadata": {},
   "source": [
    "### All transactions involving a buyer in zipcode 90066"
   ]
  },
  {
   "cell_type": "code",
   "execution_count": null,
   "metadata": {},
   "outputs": [],
   "source": [
    "pills[(pills.BUYER_ZIP == \"90066\")][['BUYER_NAME','BUYER_ZIP', 'BUYER_COUNTY', 'TRANSACTION_DATE']]"
   ]
  },
  {
   "cell_type": "code",
   "execution_count": null,
   "metadata": {},
   "outputs": [],
   "source": [
    "pills['DOSAGE_UNIT'].sum()"
   ]
  },
  {
   "cell_type": "code",
   "execution_count": null,
   "metadata": {},
   "outputs": [],
   "source": [
    "mpl.style.use('seaborn-poster')"
   ]
  },
  {
   "cell_type": "code",
   "execution_count": null,
   "metadata": {},
   "outputs": [],
   "source": [
    "def doplot():\n",
    "    pills['BUYER_ZIP'].value_counts()[:10].plot(kind='barh')\n",
    "\n",
    "mpl.style.use('ggplot')\n",
    "doplot()"
   ]
  },
  {
   "cell_type": "code",
   "execution_count": null,
   "metadata": {},
   "outputs": [],
   "source": [
    "pills.head(5)"
   ]
  },
  {
   "cell_type": "markdown",
   "metadata": {},
   "source": [
    "### How many pills by type were sold in Los Angeles County over the years? "
   ]
  },
  {
   "cell_type": "code",
   "execution_count": null,
   "metadata": {},
   "outputs": [],
   "source": [
    "pills[pills.BUYER_COUNTY == 'LOS ANGELES'].groupby(['YEAR', 'DRUG_NAME'])[('DOSAGE_UNIT')].sum()"
   ]
  },
  {
   "cell_type": "markdown",
   "metadata": {},
   "source": [
    "### How did distribution of Oxycodone to California change over the time period? "
   ]
  },
  {
   "cell_type": "code",
   "execution_count": null,
   "metadata": {},
   "outputs": [],
   "source": [
    "def doplot():\n",
    "    pills[(pills.DRUG_NAME == 'OXYCODONE')].groupby(['YEAR'])[('DOSAGE_UNIT')].sum().plot(kind='barh')\n",
    "\n",
    "mpl.style.use('ggplot')\n",
    "doplot()"
   ]
  },
  {
   "cell_type": "markdown",
   "metadata": {},
   "source": [
    "### What's the percentage change of oxycodone in CA during this time? "
   ]
  },
  {
   "cell_type": "code",
   "execution_count": null,
   "metadata": {},
   "outputs": [],
   "source": [
    "pillscounties = pills.groupby(['YEAR','BUYER_COUNTY', 'BUYER_BUS_ACT','DRUG_NAME'], as_index=False).agg({\"DOSAGE_UNIT\": \"sum\"})"
   ]
  },
  {
   "cell_type": "code",
   "execution_count": null,
   "metadata": {},
   "outputs": [],
   "source": [
    "pillscounties['county'] = pillscounties.BUYER_COUNTY.astype(object)"
   ]
  },
  {
   "cell_type": "code",
   "execution_count": null,
   "metadata": {},
   "outputs": [],
   "source": [
    "pillscounties"
   ]
  },
  {
   "cell_type": "markdown",
   "metadata": {},
   "source": [
    "### How did distribution of oxycodone to retail pharmacies change in the LA Times' zipcode over time? "
   ]
  },
  {
   "cell_type": "code",
   "execution_count": null,
   "metadata": {},
   "outputs": [],
   "source": [
    "def doplot():\n",
    "    pills[(pills.BUYER_ZIP == '90066') & (pills.DRUG_NAME == 'OXYCODONE') & (pills.BUYER_BUS_ACT == 'RETAIL PHARMACY')].groupby(['YEAR'])[('DOSAGE_UNIT')].sum().plot.barh(y='YEAR')\n",
    "\n",
    "mpl.style.use('ggplot')\n",
    "doplot()"
   ]
  },
  {
   "cell_type": "markdown",
   "metadata": {},
   "source": [
    "### Who were the largest distributors in CA during the period?"
   ]
  },
  {
   "cell_type": "markdown",
   "metadata": {},
   "source": [
    "### How does pill distribution in California compare, per capita, with other states?"
   ]
  },
  {
   "cell_type": "markdown",
   "metadata": {},
   "source": [
    "### How does pill distribution in Los Angeles County compare, per capita, with other counties?"
   ]
  },
  {
   "cell_type": "markdown",
   "metadata": {},
   "source": [
    "### Which CA cities had the highest per capita pill distribution?"
   ]
  },
  {
   "cell_type": "markdown",
   "metadata": {},
   "source": [
    "### Oxy distribution to retail pharmacies in zipcode 90066 over time?"
   ]
  },
  {
   "cell_type": "code",
   "execution_count": null,
   "metadata": {},
   "outputs": [],
   "source": [
    "def doplot():\n",
    "    pills[(pills.BUYER_ZIP == '90066') & (pills.DRUG_NAME == 'OXYCODONE') & (pills.BUYER_BUS_ACT == 'RETAIL PHARMACY')].groupby(['YEAR'])[('DOSAGE_UNIT')].sum().plot.barh(y='YEAR')\n",
    "    \n",
    "mpl.style.use('ggplot')\n",
    "doplot()"
   ]
  },
  {
   "cell_type": "code",
   "execution_count": null,
   "metadata": {},
   "outputs": [],
   "source": [
    "camap = geopandas.read_file(/Users/mhustiles/Desktop/data/GIS/ca-counties.geojson)"
   ]
  },
  {
   "cell_type": "code",
   "execution_count": null,
   "metadata": {},
   "outputs": [],
   "source": [
    "camap"
   ]
  },
  {
   "cell_type": "code",
   "execution_count": null,
   "metadata": {},
   "outputs": [],
   "source": []
  }
 ],
 "metadata": {
  "kernelspec": {
   "display_name": "Python 3",
   "language": "python",
   "name": "python3"
  },
  "language_info": {
   "codemirror_mode": {
    "name": "ipython",
    "version": 3
   },
   "file_extension": ".py",
   "mimetype": "text/x-python",
   "name": "python",
   "nbconvert_exporter": "python",
   "pygments_lexer": "ipython3",
   "version": "3.6.3rc1"
  },
  "widgets": {
   "application/vnd.jupyter.widget-state+json": {
    "state": {},
    "version_major": 2,
    "version_minor": 0
   }
  }
 },
 "nbformat": 4,
 "nbformat_minor": 2
}
